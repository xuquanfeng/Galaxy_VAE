{
 "cells": [
  {
   "cell_type": "code",
   "execution_count": 4,
   "id": "74a34fcc-a072-4ce3-abf4-a7b1850c8e3c",
   "metadata": {},
   "outputs": [
    {
     "name": "stdout",
     "output_type": "stream",
     "text": [
      "503\n",
      "285\n",
      "225\n",
      "784\n",
      "1024\n",
      "1135\n",
      "625\n"
     ]
    }
   ],
   "source": [
    "import pandas as pd\n",
    "import numpy as np\n",
    "import os\n",
    "from tqdm import tqdm\n",
    "import warnings\n",
    "from sklearn.ensemble import RandomForestClassifier\n",
    "from sklearn.ensemble import RandomForestRegressor\n",
    "from sklearn.model_selection import train_test_split\n",
    "from sklearn.metrics import precision_score\n",
    "from sklearn.metrics import recall_score\n",
    "from sklearn.metrics import f1_score\n",
    "from sklearn.metrics import confusion_matrix\n",
    "warnings.filterwarnings(\"ignore\")\n",
    "\n",
    "pt = './fits/'\n",
    "ppt = os.listdir(pt)\n",
    "ppt.sort()\n",
    "ptt = [i.replace('.csv','') for i in ppt if '.csv' in i]\n",
    "dd = np.load('resu_40_1_all1.npy')\n",
    "bb_tf_de = pd.DataFrame(dd[:,2:42].astype(\"float64\"))\n",
    "bb_tf_outde = pd.DataFrame(dd[:,44:-1].astype(\"float64\"))\n",
    "dd = np.load('notf_resu_40_1_all.npy')\n",
    "bb_ntf_de = pd.DataFrame(dd[:,2:42].astype(\"float64\"))\n",
    "bb_ntf_outde = pd.DataFrame(dd[:,44:-1].astype(\"float64\"))\n",
    "zong = []\n",
    "zong.append(bb_tf_de)\n",
    "zong.append(bb_tf_outde)\n",
    "zong.append(bb_ntf_de)\n",
    "zong.append(bb_ntf_outde)\n",
    "\n",
    "# rank = [0,3,6,9,11,14,16,18,21]\n",
    "rank = [0,2,5,8,10,12,14,17]\n",
    "acc = []\n",
    "num = []\n",
    "for ran in range(len(rank[:-1])):\n",
    "    cc = range(rank[ran],rank[ran+1])\n",
    "    accc = []\n",
    "    for shu,bb in enumerate(zong):\n",
    "        clas = 0\n",
    "        dat = pd.DataFrame()\n",
    "        for i in cc:\n",
    "            aa = pd.read_csv(pt+ppt[i])\n",
    "            aa = aa.iloc[:,0]\n",
    "            # bb = bb_tf_de\n",
    "            data = bb.iloc[aa,:]\n",
    "            data['class'] = clas\n",
    "            dat = pd.concat([dat,data])\n",
    "            clas += 1\n",
    "            if shu == 0:\n",
    "                num.append(aa.shape[0])\n",
    "        \n",
    "        \n",
    "        \n",
    "        bb1 = dat.iloc[:,-1]\n",
    "        cc1 = dat.iloc[:,:-1]\n",
    "        cc1['label'] = bb1\n",
    "        \n",
    "        \n",
    "        features = np.array(cc1.iloc[:,:-1])\n",
    "        weight = np.array(cc1.iloc[:,-1])\n",
    "        \n",
    "        # randomforest = joblib.load('../rf.model')\n",
    "        # pree = randomforest.predict(features)\n",
    "        # pree = pree - pree.min()\n",
    "        \n",
    "        X_train,X_test,y_train,y_test = train_test_split(features, weight, test_size=0.3,random_state=0)\n",
    "        tree = 5\n",
    "        randomforest = RandomForestClassifier(n_estimators=tree, class_weight=\"balanced\", random_state=0, n_jobs=-1)\n",
    "        model = randomforest.fit(X_train, y_train)\n",
    "        acca = randomforest.score(X_test, y_test)\n",
    "        \n",
    "        # print('Class_trest:',acca)\n",
    "        accc.append(acca)\n",
    "    print(len(weight))\n",
    "    acc.append(accc)\n",
    "acc = np.array(acc)\n",
    "ee = acc"
   ]
  },
  {
   "cell_type": "code",
   "execution_count": 6,
   "id": "d6eede46-41d5-4ddf-9e6c-c588ffbe71f8",
   "metadata": {},
   "outputs": [
    {
     "name": "stdout",
     "output_type": "stream",
     "text": [
      "[[0.96688742 0.96688742 0.9602649  0.96688742]\n",
      " [0.73255814 0.70930233 0.76744186 0.74418605]]\n"
     ]
    }
   ],
   "source": [
    "print(acc[:2])\n",
    "# tf_de tf_out ntf_de ntf_out"
   ]
  },
  {
   "cell_type": "code",
   "execution_count": null,
   "id": "1401d9fe-013f-4288-b7dd-bf4a53f81ad9",
   "metadata": {},
   "outputs": [],
   "source": []
  }
 ],
 "metadata": {
  "kernelspec": {
   "display_name": "Python 3 (ipykernel)",
   "language": "python",
   "name": "python3"
  },
  "language_info": {
   "codemirror_mode": {
    "name": "ipython",
    "version": 3
   },
   "file_extension": ".py",
   "mimetype": "text/x-python",
   "name": "python",
   "nbconvert_exporter": "python",
   "pygments_lexer": "ipython3",
   "version": "3.9.7"
  }
 },
 "nbformat": 4,
 "nbformat_minor": 5
}
